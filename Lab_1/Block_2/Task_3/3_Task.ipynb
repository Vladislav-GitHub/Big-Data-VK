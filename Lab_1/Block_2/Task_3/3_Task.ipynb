{
 "cells": [
  {
   "cell_type": "code",
   "execution_count": 15,
   "id": "adda8ed7-7855-49ea-aa36-af4d6a9bc558",
   "metadata": {},
   "outputs": [
    {
     "name": "stdout",
     "output_type": "stream",
     "text": [
      "Requirement already satisfied: nltk in /usr/local/lib/python3.10/dist-packages (3.8.1)\n",
      "Requirement already satisfied: tqdm in /usr/local/lib/python3.10/dist-packages (from nltk) (4.66.1)\n",
      "Requirement already satisfied: click in /usr/local/lib/python3.10/dist-packages (from nltk) (8.1.7)\n",
      "Requirement already satisfied: regex>=2021.8.3 in /usr/local/lib/python3.10/dist-packages (from nltk) (2023.10.3)\n",
      "Requirement already satisfied: joblib in /usr/local/lib/python3.10/dist-packages (from nltk) (1.3.2)\n",
      "\u001b[33mWARNING: Running pip as the 'root' user can result in broken permissions and conflicting behaviour with the system package manager. It is recommended to use a virtual environment instead: https://pip.pypa.io/warnings/venv\u001b[0m\u001b[33m\n",
      "\u001b[0m"
     ]
    }
   ],
   "source": [
    "!pip install nltk"
   ]
  },
  {
   "cell_type": "code",
   "execution_count": 3,
   "id": "11429ee4-6056-40f3-8a6b-00bfa4142f41",
   "metadata": {},
   "outputs": [
    {
     "name": "stdout",
     "output_type": "stream",
     "text": [
      "Overwriting bigram_analysis.py\n"
     ]
    }
   ],
   "source": [
    "%%file bigram_analysis.py\n",
    "\n",
    "from mrjob.job import MRJob\n",
    "from mrjob.compat import jobconf_from_env\n",
    "from nltk import word_tokenize\n",
    "from nltk.corpus import stopwords\n",
    "import string\n",
    "import nltk\n",
    "\n",
    "class MRBigramAnalysis(MRJob):\n",
    "    \n",
    "    def mapper_init(self):\n",
    "        # Initialize NLTK resources\n",
    "        nltk.download('punkt')\n",
    "        nltk.download('stopwords')\n",
    "\n",
    "    def mapper(self, _, line):\n",
    "        # Tokenize the sentence\n",
    "        words = word_tokenize(line.lower())\n",
    "\n",
    "        # Remove stopwords and punctuation\n",
    "        stop_words = set(stopwords.words('english'))\n",
    "        words = [word for word in words if word.isalnum() and word not in stop_words]\n",
    "\n",
    "        # Create bigrams\n",
    "        bigrams = [(words[i], words[i + 1]) for i in range(len(words) - 1)]\n",
    "\n",
    "        # Yield each bigram with count\n",
    "        for bigram in bigrams:\n",
    "            yield bigram, 1\n",
    "\n",
    "    def reducer(self, bigram, counts):\n",
    "        # Sum up the counts for each bigram\n",
    "        yield None, (bigram, sum(counts))\n",
    "\n",
    "    def reducer_top_bigrams(self, _, bigram_counts):\n",
    "        # Sort bigrams by count in descending order and yield the top 20\n",
    "        top_bigrams = sorted(bigram_counts, key=lambda x: x[1], reverse=True)[:20]\n",
    "        for bigram, count in top_bigrams:\n",
    "            yield bigram, count\n",
    "\n",
    "if __name__ == '__main__':\n",
    "    MRBigramAnalysis.run()"
   ]
  },
  {
   "cell_type": "code",
   "execution_count": null,
   "id": "4da29956-5479-4a95-9381-addf0591afd9",
   "metadata": {},
   "outputs": [
    {
     "name": "stdout",
     "output_type": "stream",
     "text": [
      "No configs found; falling back on auto-configuration\n",
      "No configs specified for inline runner\n",
      "Creating temp directory /tmp/bigram_analysis.root.20231206.200538.429215\n",
      "Running step 1 of 1...\n",
      "[nltk_data] Downloading package punkt to /root/nltk_data...\n"
     ]
    }
   ],
   "source": [
    "!python3 bigram_analysis.py SW_EpisodeIV.txt"
   ]
  },
  {
   "cell_type": "code",
   "execution_count": null,
   "id": "e1c89f97-e338-485b-a627-e893eafce8f1",
   "metadata": {},
   "outputs": [],
   "source": []
  }
 ],
 "metadata": {
  "kernelspec": {
   "display_name": "Python 3 (ipykernel)",
   "language": "python",
   "name": "python3"
  },
  "language_info": {
   "codemirror_mode": {
    "name": "ipython",
    "version": 3
   },
   "file_extension": ".py",
   "mimetype": "text/x-python",
   "name": "python",
   "nbconvert_exporter": "python",
   "pygments_lexer": "ipython3",
   "version": "3.10.12"
  }
 },
 "nbformat": 4,
 "nbformat_minor": 5
}
