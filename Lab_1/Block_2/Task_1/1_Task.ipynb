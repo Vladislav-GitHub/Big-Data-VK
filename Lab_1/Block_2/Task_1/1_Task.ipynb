{
 "cells": [
  {
   "cell_type": "code",
   "execution_count": null,
   "id": "c44140bb-440c-4fb7-8255-93be286e20fc",
   "metadata": {},
   "outputs": [],
   "source": [
    "!pip install pyarrow"
   ]
  },
  {
   "cell_type": "code",
   "execution_count": null,
   "id": "bc9ff87f-1353-4cbf-a164-39b6c7e149e3",
   "metadata": {},
   "outputs": [],
   "source": [
    "!pip install mrjob"
   ]
  },
  {
   "cell_type": "code",
   "execution_count": 7,
   "id": "b6ac15ef-af23-49ae-b41f-318a5dd85ff4",
   "metadata": {},
   "outputs": [
    {
     "name": "stdout",
     "output_type": "stream",
     "text": [
      "Overwriting spy_treasure.py\n"
     ]
    }
   ],
   "source": [
    "%%file spy_treasure.py\n",
    "\n",
    "from mrjob.job import MRJob\n",
    "import matplotlib.pyplot as plt\n",
    "\n",
    "class MRPhrasesCount(MRJob):\n",
    "    \n",
    "    def mapper(self, _, line):\n",
    "        words = line.replace(\"\\\"\", \"\").replace(\"\\\\\", \"\").split()\n",
    "        person = words[1]\n",
    "        yield person, 1\n",
    "\n",
    "    def reducer(self, person, counts):\n",
    "        yield person, sum(counts)\n",
    "\n",
    "    def reducer_top_persons(self, person_counts):\n",
    "        top_persons = sorted(person_counts, key=lambda x: x[1], reverse=True)[:20]\n",
    "        for person, count in top_persons:\n",
    "            yield person, count\n",
    "\n",
    "if __name__ == '__main__':\n",
    "    MRPhrasesCount.run()"
   ]
  },
  {
   "cell_type": "code",
   "execution_count": 8,
   "id": "4bf553c4-2984-42c4-bc35-439fa4bda0be",
   "metadata": {},
   "outputs": [
    {
     "name": "stdout",
     "output_type": "stream",
     "text": [
      "No configs found; falling back on auto-configuration\n",
      "No configs specified for inline runner\n",
      "Creating temp directory /tmp/spy_treasure.root.20231206.195610.219426\n",
      "Running step 1 of 1...\n",
      "job output is in /tmp/spy_treasure.root.20231206.195610.219426/output\n",
      "Streaming final output from /tmp/spy_treasure.root.20231206.195610.219426/output...\n",
      "\"HUMAN\"\t4\n",
      "\"IMPERIAL\"\t2\n",
      "\"INTERCOM\"\t6\n",
      "\"JABBA\"\t6\n",
      "\"LEIA\"\t57\n",
      "\"LUKE\"\t254\n",
      "\"TROOPER\"\t20\n",
      "\"VADER\"\t41\n",
      "\"VOICE\"\t4\n",
      "\"WEDGE\"\t14\n",
      "\"WILLARD\"\t2\n",
      "\"WINGMAN\"\t2\n",
      "\"WOMAN\"\t1\n",
      "\"dialogue\"\t1\n",
      "\"CONTROL\"\t1\n",
      "\"CREATURE\"\t1\n",
      "\"DEAK\"\t1\n",
      "\"DEATH\"\t6\n",
      "\"DODONNA\"\t6\n",
      "\"FIRST\"\t7\n",
      "\"FIXER\"\t2\n",
      "\"GANTRY\"\t2\n",
      "\"GOLD\"\t23\n",
      "\"GREEDO\"\t6\n",
      "\"HAN\"\t153\n",
      "\"ASTRO-OFFICER\"\t1\n",
      "\"AUNT\"\t6\n",
      "\"BARTENDER\"\t3\n",
      "\"BASE\"\t1\n",
      "\"BEN\"\t82\n",
      "\"BERU\"\t1\n",
      "\"BIGGS\"\t34\n",
      "\"CAMIE\"\t2\n",
      "\"CAPTAIN\"\t1\n",
      "\"CHIEF\"\t3\n",
      "\"COMMANDER\"\t3\n",
      "\"MAN\"\t1\n",
      "\"MASSASSI\"\t3\n",
      "\"MOTTI\"\t4\n",
      "\"OFFICER\"\t12\n",
      "\"OWEN\"\t25\n",
      "\"PORKINS\"\t1\n",
      "\"REBEL\"\t1\n",
      "\"RED\"\t49\n",
      "\"SECOND\"\t4\n",
      "\"TAGGE\"\t4\n",
      "\"TARKIN\"\t28\n",
      "\"TECHNICIAN\"\t1\n",
      "\"THREEPIO\"\t119\n",
      "Removing temp directory /tmp/spy_treasure.root.20231206.195610.219426...\n"
     ]
    }
   ],
   "source": [
    "!python3 spy_treasure.py SW_EpisodeIV.txt"
   ]
  },
  {
   "cell_type": "code",
   "execution_count": null,
   "id": "4051410a-fe47-483f-930e-1dabb22e10e1",
   "metadata": {},
   "outputs": [],
   "source": []
  }
 ],
 "metadata": {
  "kernelspec": {
   "display_name": "Python 3 (ipykernel)",
   "language": "python",
   "name": "python3"
  },
  "language_info": {
   "codemirror_mode": {
    "name": "ipython",
    "version": 3
   },
   "file_extension": ".py",
   "mimetype": "text/x-python",
   "name": "python",
   "nbconvert_exporter": "python",
   "pygments_lexer": "ipython3",
   "version": "3.10.12"
  }
 },
 "nbformat": 4,
 "nbformat_minor": 5
}
