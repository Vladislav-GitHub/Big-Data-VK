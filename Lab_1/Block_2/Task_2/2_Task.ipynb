{
 "cells": [
  {
   "cell_type": "code",
   "execution_count": null,
   "id": "1978264b-4b5c-4913-9b20-cfa267a82df0",
   "metadata": {},
   "outputs": [],
   "source": [
    "!pip install mrjob"
   ]
  },
  {
   "cell_type": "code",
   "execution_count": 5,
   "id": "6b135fcc-4284-4fb0-8a70-9c7f60409394",
   "metadata": {},
   "outputs": [
    {
     "name": "stdout",
     "output_type": "stream",
     "text": [
      "Overwriting longest_speech.py\n"
     ]
    }
   ],
   "source": [
    "%%file longest_speech.py\n",
    "\n",
    "from mrjob.job import MRJob\n",
    "import re\n",
    "\n",
    "class MRLongestPhrases(MRJob):\n",
    "\n",
    "    def mapper(self, _, line):\n",
    "        match = re.match(r'\"(\\d+)\" \"(.*?)\" \"(.*?)\"', line)\n",
    "        if match:\n",
    "            character_id, character, dialog = match.groups()\n",
    "            yield character, (len(dialog.split()), dialog)\n",
    "\n",
    "    def reducer(self, character, pairs):\n",
    "        longest_phrase = max(pairs, key=lambda x: x[0])\n",
    "        yield None, (character, longest_phrase)\n",
    "\n",
    "    def mapper_sort(self, _, long_char):\n",
    "        yield long_char[1][0], long_char[1][1]\n",
    "\n",
    "    def reducer_sort(self, character, longest_phrases):\n",
    "        yield character, max(longest_phrases, key=lambda x: len(x[1]))\n",
    "\n",
    "if __name__ == '__main__':\n",
    "    MRLongestPhrases.run()"
   ]
  },
  {
   "cell_type": "code",
   "execution_count": 6,
   "id": "263b7983-56d8-45ae-9b3c-79a57f3f33db",
   "metadata": {},
   "outputs": [
    {
     "name": "stdout",
     "output_type": "stream",
     "text": [
      "No configs found; falling back on auto-configuration\n",
      "No configs specified for inline runner\n",
      "Creating temp directory /tmp/longest_speech.root.20231206.200239.804814\n",
      "Running step 1 of 1...\n",
      "job output is in /tmp/longest_speech.root.20231206.200239.804814/output\n",
      "Streaming final output from /tmp/longest_speech.root.20231206.200239.804814/output...\n",
      "null\t[\"LIEUTENANT\", [14, \"Sir, all the patrols are in. There's still no contact from  Skywalker or Solo.\"]]\n",
      "null\t[\"LUKE\", [38, \"If you're saying coming here was a bad idea, I'm beginning to  agree with you. Oh, Artoo, what are we doing here? It's like... something out of a dream, or, I don't know. Maybe I'm just going crazy.\"]]\n",
      "null\t[\"ZEV\", [22, \"This is Rouge Two. this is Rouge Two. Captain  Solo, so you copy? Commander Skywalker, do you copy? This is Rouge Two.\"]]\n",
      "null\t[\"HEAD CONTROLLER\", [3, \"K-one-zero...all troops disengage.\"]]\n",
      "null\t[\"HOBBIE\", [6, \"Two fighters against a Star Destroyer?\"]]\n",
      "null\t[\"IMPERIAL OFFICER\", [6, \"Skywalker has just landed, my lord.\"]]\n",
      "null\t[\"IMPERIAL SOLDIER\", [6, \"Lord Vader, ship approaching. X-wing class.\"]]\n",
      "null\t[\"INTERCOM VOICE\", [8, \"You will not deviate from your present course.\"]]\n",
      "null\t[\"JANSON\", [5, \"Cable out! Let her go!\"]]\n",
      "null\t[\"LANDO\", [36, \"That's always been a danger looming like a shadow over  everything we've built here. But things have developed that will insure security. I've just made a deal that will keep the Empire out of here forever.\"]]\n",
      "null\t[\"LEIA\", [47, \"All troop carriers will assemble at the north entrance. The  heavy transport ships will leave as soon as they're loaded. Only two fighter escorts per ship. The energy shield can only be opened for a short time, so you'll have to stay very close to your transports.\"]]\n",
      "null\t[\"ANNOUNCER\", [6, \"Headquarters personnel, report to command  center.\"]]\n",
      "null\t[\"ASSISTANT OFFICER\", [9, \"I'll cover sector twelve. Have com-control set  screen alpha.\"]]\n",
      "null\t[\"BEN\", [24, \"But you cannot control it. This is a dangerous time for you, when  you will be tempted by the dark side of the Force.\"]]\n",
      "null\t[\"BOBA FETT\", [11, \"What if he doesn't survive? He's worth a lot to me.\"]]\n",
      "null\t[\"CAPTAIN\", [7, \"Good. Our first catch of the day.\"]]\n",
      "null\t[\"COMMUNICATIONS OFFICER\", [9, \"Captain, Lord Vader demands an update on the  pursuit.\"]]\n",
      "null\t[\"CONTROLLER\", [14, \"General, there's a fleet of Star Destroyers coming out of  hyperspace in sector four.\"]]\n",
      "null\t[\"CREATURE\", [21, \"Not far. Yoda not far. Patience. Soon you will be with him.   Rootleaf, I cook. Why wish you become Jedi? Hm?\"]]\n",
      "null\t[\"DACK\", [15, \"Luke, we've got a malfunction in fire control. I'll have to cut  in the auxiliary.\"]]\n",
      "null\t[\"DECK OFFICER\", [17, \"Sir, Commander Skywalker hasn't come in through the  south entrance. He might have forgotten to check in.\"]]\n",
      "null\t[\"DERLIN\", [15, \"Your Highness, there's nothing more we can do tonight. The  shield doors must be closed.\"]]\n",
      "null\t[\"EMPEROR\", [15, \"The Force is strong with him. The son of Skywalker must not  become a Jedi.\"]]\n",
      "null\t[\"FIRST CONTROLLER\", [2, \"Yes, sir.\"]]\n",
      "null\t[\"HAN\", [26, \"Yeah, that's what I thought. Mynock. Chewie, check the rest of  the ship, make sure there aren't any more attached. They're chewing on the power cables.\"]]\n",
      "null\t[\"MAN\", [3, \"Who are you?\"]]\n",
      "null\t[\"MEDICAL DROID\", [11, \"Sir, it will take quite awhile to evacuate the T-forty-  sevens.\"]]\n",
      "null\t[\"NEEDA\", [27, \"...and that, Lord Vader, was the last time they  appeared in any of our scopes. Considering the amount of damage we've sustained, they must have been destroyed.\"]]\n",
      "null\t[\"OFFICER\", [2, \"Begin retreat!\"]]\n",
      "null\t[\"OZZEL\", [15, \"My lord, there are so many uncharted settlements. It could be  smugglers, it could be...\"]]\n",
      "null\t[\"PIETT\", [32, \"Lord Vader, our ships have completed their scan of the area and  found nothing. If the Millennium Falcon went into light-speed, it'll be on the other side of the galaxy by now.\"]]\n",
      "null\t[\"PILOT\", [3, \"One-seven, decimal two-eight.\"]]\n",
      "null\t[\"PILOTS\", [2, \"Right. Okay.\"]]\n",
      "null\t[\"REBEL CAPTAIN\", [26, \"Groups seven and ten will stay behind to fly the  speeders. As soon as each transport is loaded, evacuation control will give clearance for immediate launch.\"]]\n",
      "null\t[\"REBEL FIGHTER\", [2, \"Right, sir.\"]]\n",
      "null\t[\"RIEEKAN\", [21, \"Reroute all power to the energy shield. We've got to hold  them till all transports are away. Prepare for ground assault.\"]]\n",
      "null\t[\"SECOND CONTROLLER\", [11, \"Sir, we have a priority signal from the Star  Destroyer Avenger.\"]]\n",
      "null\t[\"SECOND OFFICER\", [2, \"Fall back!\"]]\n",
      "null\t[\"SECOND THREEPIO\", [3, \"E chu ta!\"]]\n",
      "null\t[\"SENIOR CONTROLLER\", [9, \"No. Wait -- there's something very weak coming  through.\"]]\n",
      "null\t[\"STRANGE VOICE\", [3, \"Feel like what?\"]]\n",
      "null\t[\"THREEPIO\", [46, \"Don't try to blame me. I didn't ask you to turn on the  thermal heater. I merely commented that it was freezing in the princess's chamber. But it's supposed to be freezing. How are we going to dry out all her clothes? I really don't know.\"]]\n",
      "null\t[\"TRACKING OFFICER\", [10, \"Captain Needa, the ship no longer appears on our  scopes.\"]]\n",
      "null\t[\"TRENCH OFFICER\", [5, \"We have spotted Imperial walkers!\"]]\n",
      "null\t[\"VADER\", [48, \"There is no escape. Don't make me destroy you. You do not yet  realize your importance. You have only begun to discover you power. Join me and I will complete your training. With our combined strength, we can end this destructive conflict and bring order to the galaxy.\"]]\n",
      "null\t[\"VEERS\", [35, \"My lord, the fleet has moves out of light-speed. Com-Scan has  detected an energy field protecting an area around the sixth planet of the Hoth system. The field is strong enough to deflect any bombardment.\"]]\n",
      "null\t[\"WEDGE\", [8, \"Good luck, Luke. See you at the rendezvous.\"]]\n",
      "null\t[\"WOMAN CONTROLLER\", [4, \"Stand by, ion control....Fire!\"]]\n",
      "null\t[\"YODA\", [73, \"Ready, are you? What know you of ready? For eight hundred years  have I trained Jedi. My own counsel will I keep on who is to be trained! A Jedi must have the deepest commitment, the most serious mind.  This one a long time have I watched. Never his mind on where he was. Hmm? What he was doing. Hmph. Adventure. Heh! Excitement. Heh! A Jedi craves not these things.  You are reckless!\"]]\n",
      "Removing temp directory /tmp/longest_speech.root.20231206.200239.804814...\n"
     ]
    }
   ],
   "source": [
    "!python3 longest_speech.py SW_EpisodeV.txt"
   ]
  },
  {
   "cell_type": "code",
   "execution_count": null,
   "id": "47f0c011-ba62-4628-9be1-762be939f2e2",
   "metadata": {},
   "outputs": [],
   "source": []
  }
 ],
 "metadata": {
  "kernelspec": {
   "display_name": "Python 3 (ipykernel)",
   "language": "python",
   "name": "python3"
  },
  "language_info": {
   "codemirror_mode": {
    "name": "ipython",
    "version": 3
   },
   "file_extension": ".py",
   "mimetype": "text/x-python",
   "name": "python",
   "nbconvert_exporter": "python",
   "pygments_lexer": "ipython3",
   "version": "3.10.12"
  }
 },
 "nbformat": 4,
 "nbformat_minor": 5
}
